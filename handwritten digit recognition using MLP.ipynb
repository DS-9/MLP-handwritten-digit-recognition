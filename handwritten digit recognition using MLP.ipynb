{
  "nbformat": 4,
  "nbformat_minor": 0,
  "metadata": {
    "colab": {
      "provenance": []
    },
    "kernelspec": {
      "name": "python3",
      "display_name": "Python 3"
    },
    "language_info": {
      "name": "python"
    },
    "accelerator": "GPU",
    "gpuClass": "standard"
  },
  "cells": [
    {
      "cell_type": "markdown",
      "source": [
        "**Importing the libraries**"
      ],
      "metadata": {
        "id": "lYsWABdE3XzF"
      }
    },
    {
      "cell_type": "code",
      "execution_count": null,
      "metadata": {
        "id": "1w2xRALv13Uy"
      },
      "outputs": [],
      "source": [
        "import numpy as np\n",
        "import tensorflow as tf\n",
        "import sklearn as sk\n",
        "import matplotlib.pyplot as plt\n",
        "import pandas as pd\n",
        "from sklearn.datasets import load_digits"
      ]
    },
    {
      "cell_type": "markdown",
      "source": [
        "**Loading the Dataset and Input Data**"
      ],
      "metadata": {
        "id": "RbQgFpsX3b-s"
      }
    },
    {
      "cell_type": "code",
      "source": [
        "dataset  = load_digits()\n",
        "X = dataset['data']\n",
        "Y = dataset['target']"
      ],
      "metadata": {
        "id": "aAB2oZ3P2CZo"
      },
      "execution_count": null,
      "outputs": []
    },
    {
      "cell_type": "markdown",
      "source": [
        "**Splitting the Dataset into Training and Testing Data**"
      ],
      "metadata": {
        "id": "EFjWqq1S3jqd"
      }
    },
    {
      "cell_type": "code",
      "source": [
        "from sklearn.model_selection import train_test_split\n",
        "X_train, X_test , Y_train , Y_test = train_test_split( X , Y , test_size=0.2)"
      ],
      "metadata": {
        "id": "bVBc4nxF2E2Y"
      },
      "execution_count": null,
      "outputs": []
    },
    {
      "cell_type": "markdown",
      "source": [
        "**Building the Artificial Neural Network Model using Keras**\n",
        "\n",
        "Neural Network which has 2 layers of 'relu' and the output layer use 'Softmax' for prediction\n",
        "\n"
      ],
      "metadata": {
        "id": "J-zLtUPc3wpv"
      }
    },
    {
      "cell_type": "code",
      "source": [
        "model = tf.keras.models.Sequential([\n",
        "    tf.keras.layers.Dense(64, activation='relu', input_shape=(64,)),\n",
        "    tf.keras.layers.Dense(32, activation='relu'),\n",
        "    tf.keras.layers.Dense(10, activation='softmax')\n",
        "])"
      ],
      "metadata": {
        "id": "7vkWtPFj2Ja2"
      },
      "execution_count": null,
      "outputs": []
    },
    {
      "cell_type": "markdown",
      "source": [
        "**Compiling the Neural Network**"
      ],
      "metadata": {
        "id": "cnvuJvOo370N"
      }
    },
    {
      "cell_type": "code",
      "source": [
        "model.compile(optimizer='adam', loss='sparse_categorical_crossentropy',metrics=['accuracy'])"
      ],
      "metadata": {
        "id": "wutD_e_U2N4A"
      },
      "execution_count": null,
      "outputs": []
    },
    {
      "cell_type": "markdown",
      "source": [
        "**Training the model**"
      ],
      "metadata": {
        "id": "6iO4jDte4Ag1"
      }
    },
    {
      "cell_type": "code",
      "source": [
        "model.fit(X_train, Y_train, epochs=120, validation_data=(X_test, Y_test))"
      ],
      "metadata": {
        "colab": {
          "base_uri": "https://localhost:8080/"
        },
        "id": "oofrn2Ba2QuC",
        "outputId": "6e4a693e-3074-4143-bcac-6e0c1a19f57d"
      },
      "execution_count": null,
      "outputs": [
        {
          "output_type": "stream",
          "name": "stdout",
          "text": [
            "Epoch 1/120\n",
            "45/45 [==============================] - 0s 5ms/step - loss: 1.0970e-05 - accuracy: 1.0000 - val_loss: 0.0992 - val_accuracy: 0.9750\n",
            "Epoch 2/120\n",
            "45/45 [==============================] - 0s 4ms/step - loss: 1.0699e-05 - accuracy: 1.0000 - val_loss: 0.1016 - val_accuracy: 0.9750\n",
            "Epoch 3/120\n",
            "45/45 [==============================] - 0s 5ms/step - loss: 1.0382e-05 - accuracy: 1.0000 - val_loss: 0.1022 - val_accuracy: 0.9750\n",
            "Epoch 4/120\n",
            "45/45 [==============================] - 0s 6ms/step - loss: 1.0109e-05 - accuracy: 1.0000 - val_loss: 0.1003 - val_accuracy: 0.9750\n",
            "Epoch 5/120\n",
            "45/45 [==============================] - 0s 6ms/step - loss: 9.8265e-06 - accuracy: 1.0000 - val_loss: 0.1002 - val_accuracy: 0.9750\n",
            "Epoch 6/120\n",
            "45/45 [==============================] - 0s 6ms/step - loss: 9.7293e-06 - accuracy: 1.0000 - val_loss: 0.0998 - val_accuracy: 0.9750\n",
            "Epoch 7/120\n",
            "45/45 [==============================] - 0s 6ms/step - loss: 9.5272e-06 - accuracy: 1.0000 - val_loss: 0.1000 - val_accuracy: 0.9750\n",
            "Epoch 8/120\n",
            "45/45 [==============================] - 0s 6ms/step - loss: 8.9704e-06 - accuracy: 1.0000 - val_loss: 0.1013 - val_accuracy: 0.9750\n",
            "Epoch 9/120\n",
            "45/45 [==============================] - 0s 7ms/step - loss: 8.8838e-06 - accuracy: 1.0000 - val_loss: 0.1004 - val_accuracy: 0.9750\n",
            "Epoch 10/120\n",
            "45/45 [==============================] - 0s 7ms/step - loss: 8.6341e-06 - accuracy: 1.0000 - val_loss: 0.1010 - val_accuracy: 0.9750\n",
            "Epoch 11/120\n",
            "45/45 [==============================] - 0s 6ms/step - loss: 8.3652e-06 - accuracy: 1.0000 - val_loss: 0.1022 - val_accuracy: 0.9750\n",
            "Epoch 12/120\n",
            "45/45 [==============================] - 0s 6ms/step - loss: 8.2104e-06 - accuracy: 1.0000 - val_loss: 0.1007 - val_accuracy: 0.9750\n",
            "Epoch 13/120\n",
            "45/45 [==============================] - 0s 4ms/step - loss: 7.9739e-06 - accuracy: 1.0000 - val_loss: 0.1025 - val_accuracy: 0.9750\n",
            "Epoch 14/120\n",
            "45/45 [==============================] - 0s 4ms/step - loss: 7.7227e-06 - accuracy: 1.0000 - val_loss: 0.1016 - val_accuracy: 0.9750\n",
            "Epoch 15/120\n",
            "45/45 [==============================] - 0s 4ms/step - loss: 7.4986e-06 - accuracy: 1.0000 - val_loss: 0.0994 - val_accuracy: 0.9750\n",
            "Epoch 16/120\n",
            "45/45 [==============================] - 0s 4ms/step - loss: 7.3331e-06 - accuracy: 1.0000 - val_loss: 0.1003 - val_accuracy: 0.9750\n",
            "Epoch 17/120\n",
            "45/45 [==============================] - 0s 5ms/step - loss: 7.0676e-06 - accuracy: 1.0000 - val_loss: 0.1013 - val_accuracy: 0.9750\n",
            "Epoch 18/120\n",
            "45/45 [==============================] - 0s 5ms/step - loss: 6.9412e-06 - accuracy: 1.0000 - val_loss: 0.1017 - val_accuracy: 0.9750\n",
            "Epoch 19/120\n",
            "45/45 [==============================] - 0s 4ms/step - loss: 6.9321e-06 - accuracy: 1.0000 - val_loss: 0.1018 - val_accuracy: 0.9750\n",
            "Epoch 20/120\n",
            "45/45 [==============================] - 0s 5ms/step - loss: 6.7989e-06 - accuracy: 1.0000 - val_loss: 0.1013 - val_accuracy: 0.9750\n",
            "Epoch 21/120\n",
            "45/45 [==============================] - 0s 5ms/step - loss: 6.3699e-06 - accuracy: 1.0000 - val_loss: 0.1021 - val_accuracy: 0.9750\n",
            "Epoch 22/120\n",
            "45/45 [==============================] - 0s 4ms/step - loss: 6.3307e-06 - accuracy: 1.0000 - val_loss: 0.1005 - val_accuracy: 0.9750\n",
            "Epoch 23/120\n",
            "45/45 [==============================] - 0s 5ms/step - loss: 6.1167e-06 - accuracy: 1.0000 - val_loss: 0.1016 - val_accuracy: 0.9750\n",
            "Epoch 24/120\n",
            "45/45 [==============================] - 0s 5ms/step - loss: 6.0055e-06 - accuracy: 1.0000 - val_loss: 0.0997 - val_accuracy: 0.9750\n",
            "Epoch 25/120\n",
            "45/45 [==============================] - 0s 5ms/step - loss: 5.7685e-06 - accuracy: 1.0000 - val_loss: 0.1019 - val_accuracy: 0.9750\n",
            "Epoch 26/120\n",
            "45/45 [==============================] - 0s 6ms/step - loss: 5.6033e-06 - accuracy: 1.0000 - val_loss: 0.1014 - val_accuracy: 0.9750\n",
            "Epoch 27/120\n",
            "45/45 [==============================] - 0s 5ms/step - loss: 5.4265e-06 - accuracy: 1.0000 - val_loss: 0.1013 - val_accuracy: 0.9750\n",
            "Epoch 28/120\n",
            "45/45 [==============================] - 0s 5ms/step - loss: 5.4603e-06 - accuracy: 1.0000 - val_loss: 0.1013 - val_accuracy: 0.9750\n",
            "Epoch 29/120\n",
            "45/45 [==============================] - 0s 5ms/step - loss: 5.1741e-06 - accuracy: 1.0000 - val_loss: 0.1024 - val_accuracy: 0.9750\n",
            "Epoch 30/120\n",
            "45/45 [==============================] - 0s 5ms/step - loss: 5.0692e-06 - accuracy: 1.0000 - val_loss: 0.1011 - val_accuracy: 0.9750\n",
            "Epoch 31/120\n",
            "45/45 [==============================] - 0s 5ms/step - loss: 4.9253e-06 - accuracy: 1.0000 - val_loss: 0.1011 - val_accuracy: 0.9750\n",
            "Epoch 32/120\n",
            "45/45 [==============================] - 0s 4ms/step - loss: 4.8807e-06 - accuracy: 1.0000 - val_loss: 0.1023 - val_accuracy: 0.9750\n",
            "Epoch 33/120\n",
            "45/45 [==============================] - 0s 4ms/step - loss: 4.7009e-06 - accuracy: 1.0000 - val_loss: 0.1028 - val_accuracy: 0.9750\n",
            "Epoch 34/120\n",
            "45/45 [==============================] - 0s 5ms/step - loss: 4.5506e-06 - accuracy: 1.0000 - val_loss: 0.1025 - val_accuracy: 0.9750\n",
            "Epoch 35/120\n",
            "45/45 [==============================] - 0s 5ms/step - loss: 4.4886e-06 - accuracy: 1.0000 - val_loss: 0.1007 - val_accuracy: 0.9750\n",
            "Epoch 36/120\n",
            "45/45 [==============================] - 0s 4ms/step - loss: 4.3587e-06 - accuracy: 1.0000 - val_loss: 0.1012 - val_accuracy: 0.9750\n",
            "Epoch 37/120\n",
            "45/45 [==============================] - 0s 5ms/step - loss: 4.2147e-06 - accuracy: 1.0000 - val_loss: 0.1017 - val_accuracy: 0.9750\n",
            "Epoch 38/120\n",
            "45/45 [==============================] - 0s 4ms/step - loss: 4.1789e-06 - accuracy: 1.0000 - val_loss: 0.1004 - val_accuracy: 0.9750\n",
            "Epoch 39/120\n",
            "45/45 [==============================] - 0s 4ms/step - loss: 4.0163e-06 - accuracy: 1.0000 - val_loss: 0.1019 - val_accuracy: 0.9750\n",
            "Epoch 40/120\n",
            "45/45 [==============================] - 0s 5ms/step - loss: 3.9127e-06 - accuracy: 1.0000 - val_loss: 0.1015 - val_accuracy: 0.9750\n",
            "Epoch 41/120\n",
            "45/45 [==============================] - 0s 4ms/step - loss: 3.8363e-06 - accuracy: 1.0000 - val_loss: 0.1006 - val_accuracy: 0.9750\n",
            "Epoch 42/120\n",
            "45/45 [==============================] - 0s 5ms/step - loss: 3.7341e-06 - accuracy: 1.0000 - val_loss: 0.1003 - val_accuracy: 0.9750\n",
            "Epoch 43/120\n",
            "45/45 [==============================] - 0s 4ms/step - loss: 3.6497e-06 - accuracy: 1.0000 - val_loss: 0.1026 - val_accuracy: 0.9750\n",
            "Epoch 44/120\n",
            "45/45 [==============================] - 0s 4ms/step - loss: 3.5491e-06 - accuracy: 1.0000 - val_loss: 0.1021 - val_accuracy: 0.9750\n",
            "Epoch 45/120\n",
            "45/45 [==============================] - 0s 4ms/step - loss: 3.4571e-06 - accuracy: 1.0000 - val_loss: 0.1022 - val_accuracy: 0.9750\n",
            "Epoch 46/120\n",
            "45/45 [==============================] - 0s 5ms/step - loss: 3.3789e-06 - accuracy: 1.0000 - val_loss: 0.1025 - val_accuracy: 0.9750\n",
            "Epoch 47/120\n",
            "45/45 [==============================] - 0s 4ms/step - loss: 3.2918e-06 - accuracy: 1.0000 - val_loss: 0.1024 - val_accuracy: 0.9750\n",
            "Epoch 48/120\n",
            "45/45 [==============================] - 0s 4ms/step - loss: 3.1852e-06 - accuracy: 1.0000 - val_loss: 0.1023 - val_accuracy: 0.9750\n",
            "Epoch 49/120\n",
            "45/45 [==============================] - 0s 5ms/step - loss: 3.1134e-06 - accuracy: 1.0000 - val_loss: 0.1020 - val_accuracy: 0.9750\n",
            "Epoch 50/120\n",
            "45/45 [==============================] - 0s 4ms/step - loss: 3.0713e-06 - accuracy: 1.0000 - val_loss: 0.1023 - val_accuracy: 0.9750\n",
            "Epoch 51/120\n",
            "45/45 [==============================] - 0s 5ms/step - loss: 3.0005e-06 - accuracy: 1.0000 - val_loss: 0.1019 - val_accuracy: 0.9750\n",
            "Epoch 52/120\n",
            "45/45 [==============================] - 0s 5ms/step - loss: 2.8672e-06 - accuracy: 1.0000 - val_loss: 0.1020 - val_accuracy: 0.9750\n",
            "Epoch 53/120\n",
            "45/45 [==============================] - 0s 4ms/step - loss: 2.8295e-06 - accuracy: 1.0000 - val_loss: 0.1011 - val_accuracy: 0.9750\n",
            "Epoch 54/120\n",
            "45/45 [==============================] - 0s 6ms/step - loss: 2.7714e-06 - accuracy: 1.0000 - val_loss: 0.1030 - val_accuracy: 0.9750\n",
            "Epoch 55/120\n",
            "45/45 [==============================] - 0s 5ms/step - loss: 2.6968e-06 - accuracy: 1.0000 - val_loss: 0.1016 - val_accuracy: 0.9750\n",
            "Epoch 56/120\n",
            "45/45 [==============================] - 0s 5ms/step - loss: 2.6066e-06 - accuracy: 1.0000 - val_loss: 0.1020 - val_accuracy: 0.9750\n",
            "Epoch 57/120\n",
            "45/45 [==============================] - 0s 5ms/step - loss: 2.5380e-06 - accuracy: 1.0000 - val_loss: 0.1005 - val_accuracy: 0.9750\n",
            "Epoch 58/120\n",
            "45/45 [==============================] - 0s 7ms/step - loss: 2.4681e-06 - accuracy: 1.0000 - val_loss: 0.1012 - val_accuracy: 0.9778\n",
            "Epoch 59/120\n",
            "45/45 [==============================] - 0s 6ms/step - loss: 2.4232e-06 - accuracy: 1.0000 - val_loss: 0.1033 - val_accuracy: 0.9750\n",
            "Epoch 60/120\n",
            "45/45 [==============================] - 0s 6ms/step - loss: 2.3473e-06 - accuracy: 1.0000 - val_loss: 0.1019 - val_accuracy: 0.9778\n",
            "Epoch 61/120\n",
            "45/45 [==============================] - 0s 7ms/step - loss: 2.3009e-06 - accuracy: 1.0000 - val_loss: 0.1019 - val_accuracy: 0.9750\n",
            "Epoch 62/120\n",
            "45/45 [==============================] - 0s 6ms/step - loss: 2.2184e-06 - accuracy: 1.0000 - val_loss: 0.1022 - val_accuracy: 0.9778\n",
            "Epoch 63/120\n",
            "45/45 [==============================] - 0s 6ms/step - loss: 2.1649e-06 - accuracy: 1.0000 - val_loss: 0.1023 - val_accuracy: 0.9778\n",
            "Epoch 64/120\n",
            "45/45 [==============================] - 0s 6ms/step - loss: 2.1079e-06 - accuracy: 1.0000 - val_loss: 0.1017 - val_accuracy: 0.9778\n",
            "Epoch 65/120\n",
            "45/45 [==============================] - 0s 7ms/step - loss: 2.0696e-06 - accuracy: 1.0000 - val_loss: 0.1035 - val_accuracy: 0.9778\n",
            "Epoch 66/120\n",
            "45/45 [==============================] - 0s 6ms/step - loss: 2.0753e-06 - accuracy: 1.0000 - val_loss: 0.1029 - val_accuracy: 0.9750\n",
            "Epoch 67/120\n",
            "45/45 [==============================] - 0s 5ms/step - loss: 1.9641e-06 - accuracy: 1.0000 - val_loss: 0.1019 - val_accuracy: 0.9778\n",
            "Epoch 68/120\n",
            "45/45 [==============================] - 0s 5ms/step - loss: 1.8994e-06 - accuracy: 1.0000 - val_loss: 0.1027 - val_accuracy: 0.9778\n",
            "Epoch 69/120\n",
            "45/45 [==============================] - 0s 4ms/step - loss: 1.8329e-06 - accuracy: 1.0000 - val_loss: 0.1034 - val_accuracy: 0.9778\n",
            "Epoch 70/120\n",
            "45/45 [==============================] - 0s 4ms/step - loss: 1.7937e-06 - accuracy: 1.0000 - val_loss: 0.1034 - val_accuracy: 0.9778\n",
            "Epoch 71/120\n",
            "45/45 [==============================] - 0s 4ms/step - loss: 1.7836e-06 - accuracy: 1.0000 - val_loss: 0.1029 - val_accuracy: 0.9778\n",
            "Epoch 72/120\n",
            "45/45 [==============================] - 0s 5ms/step - loss: 1.7218e-06 - accuracy: 1.0000 - val_loss: 0.1023 - val_accuracy: 0.9778\n",
            "Epoch 73/120\n",
            "45/45 [==============================] - 0s 4ms/step - loss: 1.6750e-06 - accuracy: 1.0000 - val_loss: 0.1028 - val_accuracy: 0.9778\n",
            "Epoch 74/120\n",
            "45/45 [==============================] - 0s 5ms/step - loss: 1.6360e-06 - accuracy: 1.0000 - val_loss: 0.1024 - val_accuracy: 0.9778\n",
            "Epoch 75/120\n",
            "45/45 [==============================] - 0s 5ms/step - loss: 1.5860e-06 - accuracy: 1.0000 - val_loss: 0.1027 - val_accuracy: 0.9778\n",
            "Epoch 76/120\n",
            "45/45 [==============================] - 0s 5ms/step - loss: 1.5559e-06 - accuracy: 1.0000 - val_loss: 0.1028 - val_accuracy: 0.9778\n",
            "Epoch 77/120\n",
            "45/45 [==============================] - 0s 5ms/step - loss: 1.5140e-06 - accuracy: 1.0000 - val_loss: 0.1033 - val_accuracy: 0.9778\n",
            "Epoch 78/120\n",
            "45/45 [==============================] - 0s 4ms/step - loss: 1.4999e-06 - accuracy: 1.0000 - val_loss: 0.1027 - val_accuracy: 0.9778\n",
            "Epoch 79/120\n",
            "45/45 [==============================] - 0s 4ms/step - loss: 1.4382e-06 - accuracy: 1.0000 - val_loss: 0.1038 - val_accuracy: 0.9778\n",
            "Epoch 80/120\n",
            "45/45 [==============================] - 0s 5ms/step - loss: 1.4026e-06 - accuracy: 1.0000 - val_loss: 0.1039 - val_accuracy: 0.9778\n",
            "Epoch 81/120\n",
            "45/45 [==============================] - 0s 4ms/step - loss: 1.3552e-06 - accuracy: 1.0000 - val_loss: 0.1033 - val_accuracy: 0.9778\n",
            "Epoch 82/120\n",
            "45/45 [==============================] - 0s 5ms/step - loss: 1.3211e-06 - accuracy: 1.0000 - val_loss: 0.1023 - val_accuracy: 0.9778\n",
            "Epoch 83/120\n",
            "45/45 [==============================] - 0s 5ms/step - loss: 1.2950e-06 - accuracy: 1.0000 - val_loss: 0.1040 - val_accuracy: 0.9778\n",
            "Epoch 84/120\n",
            "45/45 [==============================] - 0s 4ms/step - loss: 1.2697e-06 - accuracy: 1.0000 - val_loss: 0.1039 - val_accuracy: 0.9778\n",
            "Epoch 85/120\n",
            "45/45 [==============================] - 0s 5ms/step - loss: 1.2257e-06 - accuracy: 1.0000 - val_loss: 0.1022 - val_accuracy: 0.9778\n",
            "Epoch 86/120\n",
            "45/45 [==============================] - 0s 5ms/step - loss: 1.1884e-06 - accuracy: 1.0000 - val_loss: 0.1035 - val_accuracy: 0.9778\n",
            "Epoch 87/120\n",
            "45/45 [==============================] - 0s 4ms/step - loss: 1.1794e-06 - accuracy: 1.0000 - val_loss: 0.1045 - val_accuracy: 0.9778\n",
            "Epoch 88/120\n",
            "45/45 [==============================] - 0s 5ms/step - loss: 1.1407e-06 - accuracy: 1.0000 - val_loss: 0.1031 - val_accuracy: 0.9778\n",
            "Epoch 89/120\n",
            "45/45 [==============================] - 0s 4ms/step - loss: 1.1116e-06 - accuracy: 1.0000 - val_loss: 0.1034 - val_accuracy: 0.9778\n",
            "Epoch 90/120\n",
            "45/45 [==============================] - 0s 5ms/step - loss: 1.0754e-06 - accuracy: 1.0000 - val_loss: 0.1029 - val_accuracy: 0.9778\n",
            "Epoch 91/120\n",
            "45/45 [==============================] - 0s 5ms/step - loss: 1.0604e-06 - accuracy: 1.0000 - val_loss: 0.1029 - val_accuracy: 0.9778\n",
            "Epoch 92/120\n",
            "45/45 [==============================] - 0s 5ms/step - loss: 1.0255e-06 - accuracy: 1.0000 - val_loss: 0.1030 - val_accuracy: 0.9778\n",
            "Epoch 93/120\n",
            "45/45 [==============================] - 0s 5ms/step - loss: 1.0173e-06 - accuracy: 1.0000 - val_loss: 0.1034 - val_accuracy: 0.9778\n",
            "Epoch 94/120\n",
            "45/45 [==============================] - 0s 4ms/step - loss: 9.7225e-07 - accuracy: 1.0000 - val_loss: 0.1043 - val_accuracy: 0.9778\n",
            "Epoch 95/120\n",
            "45/45 [==============================] - 0s 5ms/step - loss: 9.6371e-07 - accuracy: 1.0000 - val_loss: 0.1034 - val_accuracy: 0.9778\n",
            "Epoch 96/120\n",
            "45/45 [==============================] - 0s 4ms/step - loss: 9.3384e-07 - accuracy: 1.0000 - val_loss: 0.1009 - val_accuracy: 0.9778\n",
            "Epoch 97/120\n",
            "45/45 [==============================] - 0s 5ms/step - loss: 9.2331e-07 - accuracy: 1.0000 - val_loss: 0.1030 - val_accuracy: 0.9778\n",
            "Epoch 98/120\n",
            "45/45 [==============================] - 0s 4ms/step - loss: 8.6350e-07 - accuracy: 1.0000 - val_loss: 0.1037 - val_accuracy: 0.9778\n",
            "Epoch 99/120\n",
            "45/45 [==============================] - 0s 5ms/step - loss: 8.5114e-07 - accuracy: 1.0000 - val_loss: 0.1040 - val_accuracy: 0.9778\n",
            "Epoch 100/120\n",
            "45/45 [==============================] - 0s 5ms/step - loss: 8.4010e-07 - accuracy: 1.0000 - val_loss: 0.1024 - val_accuracy: 0.9778\n",
            "Epoch 101/120\n",
            "45/45 [==============================] - 0s 4ms/step - loss: 8.1314e-07 - accuracy: 1.0000 - val_loss: 0.1041 - val_accuracy: 0.9778\n",
            "Epoch 102/120\n",
            "45/45 [==============================] - 0s 6ms/step - loss: 8.0285e-07 - accuracy: 1.0000 - val_loss: 0.1028 - val_accuracy: 0.9778\n",
            "Epoch 103/120\n",
            "45/45 [==============================] - 0s 4ms/step - loss: 7.6328e-07 - accuracy: 1.0000 - val_loss: 0.1041 - val_accuracy: 0.9778\n",
            "Epoch 104/120\n",
            "45/45 [==============================] - 0s 5ms/step - loss: 7.5374e-07 - accuracy: 1.0000 - val_loss: 0.1039 - val_accuracy: 0.9778\n",
            "Epoch 105/120\n",
            "45/45 [==============================] - 0s 5ms/step - loss: 7.3425e-07 - accuracy: 1.0000 - val_loss: 0.1035 - val_accuracy: 0.9778\n",
            "Epoch 106/120\n",
            "45/45 [==============================] - 0s 5ms/step - loss: 7.1592e-07 - accuracy: 1.0000 - val_loss: 0.1034 - val_accuracy: 0.9778\n",
            "Epoch 107/120\n",
            "45/45 [==============================] - 0s 4ms/step - loss: 6.9941e-07 - accuracy: 1.0000 - val_loss: 0.1042 - val_accuracy: 0.9778\n",
            "Epoch 108/120\n",
            "45/45 [==============================] - 0s 5ms/step - loss: 6.7610e-07 - accuracy: 1.0000 - val_loss: 0.1042 - val_accuracy: 0.9778\n",
            "Epoch 109/120\n",
            "45/45 [==============================] - 0s 5ms/step - loss: 6.5229e-07 - accuracy: 1.0000 - val_loss: 0.1044 - val_accuracy: 0.9778\n",
            "Epoch 110/120\n",
            "45/45 [==============================] - 0s 6ms/step - loss: 6.5760e-07 - accuracy: 1.0000 - val_loss: 0.1043 - val_accuracy: 0.9778\n",
            "Epoch 111/120\n",
            "45/45 [==============================] - 0s 6ms/step - loss: 6.2342e-07 - accuracy: 1.0000 - val_loss: 0.1028 - val_accuracy: 0.9778\n",
            "Epoch 112/120\n",
            "45/45 [==============================] - 0s 6ms/step - loss: 6.2375e-07 - accuracy: 1.0000 - val_loss: 0.1029 - val_accuracy: 0.9778\n",
            "Epoch 113/120\n",
            "45/45 [==============================] - 0s 7ms/step - loss: 5.8941e-07 - accuracy: 1.0000 - val_loss: 0.1050 - val_accuracy: 0.9778\n",
            "Epoch 114/120\n",
            "45/45 [==============================] - 0s 7ms/step - loss: 5.8302e-07 - accuracy: 1.0000 - val_loss: 0.1024 - val_accuracy: 0.9778\n",
            "Epoch 115/120\n",
            "45/45 [==============================] - 0s 7ms/step - loss: 5.7166e-07 - accuracy: 1.0000 - val_loss: 0.1020 - val_accuracy: 0.9778\n",
            "Epoch 116/120\n",
            "45/45 [==============================] - 0s 7ms/step - loss: 5.4967e-07 - accuracy: 1.0000 - val_loss: 0.1038 - val_accuracy: 0.9778\n",
            "Epoch 117/120\n",
            "45/45 [==============================] - 0s 6ms/step - loss: 5.3258e-07 - accuracy: 1.0000 - val_loss: 0.1043 - val_accuracy: 0.9778\n",
            "Epoch 118/120\n",
            "45/45 [==============================] - 0s 4ms/step - loss: 5.2420e-07 - accuracy: 1.0000 - val_loss: 0.1047 - val_accuracy: 0.9778\n",
            "Epoch 119/120\n",
            "45/45 [==============================] - 0s 5ms/step - loss: 5.0629e-07 - accuracy: 1.0000 - val_loss: 0.1034 - val_accuracy: 0.9778\n",
            "Epoch 120/120\n",
            "45/45 [==============================] - 0s 5ms/step - loss: 4.9509e-07 - accuracy: 1.0000 - val_loss: 0.1047 - val_accuracy: 0.9778\n"
          ]
        },
        {
          "output_type": "execute_result",
          "data": {
            "text/plain": [
              "<keras.callbacks.History at 0x7f738b598670>"
            ]
          },
          "metadata": {},
          "execution_count": 127
        }
      ]
    },
    {
      "cell_type": "markdown",
      "source": [
        "**Training loss**"
      ],
      "metadata": {
        "id": "UI7z_tfu4JWL"
      }
    },
    {
      "cell_type": "code",
      "source": [
        "train_loss, train_acc = model.evaluate(X_train, Y_train)"
      ],
      "metadata": {
        "colab": {
          "base_uri": "https://localhost:8080/"
        },
        "id": "ZXzdDi0b2Vdr",
        "outputId": "15a98957-fa79-488a-be23-d78c0a1f3cfd"
      },
      "execution_count": null,
      "outputs": [
        {
          "output_type": "stream",
          "name": "stdout",
          "text": [
            "45/45 [==============================] - 0s 3ms/step - loss: 1.0711e-05 - accuracy: 1.0000\n"
          ]
        }
      ]
    },
    {
      "cell_type": "markdown",
      "source": [
        "**Testing loss**"
      ],
      "metadata": {
        "id": "QWYRLJCD4OtU"
      }
    },
    {
      "cell_type": "code",
      "source": [
        "test_loss, test_acc = model.evaluate(X_test, Y_test)"
      ],
      "metadata": {
        "colab": {
          "base_uri": "https://localhost:8080/"
        },
        "id": "T-CmsNC-2Yw5",
        "outputId": "77abf02c-44df-4141-ea7f-911fd86f99d9"
      },
      "execution_count": null,
      "outputs": [
        {
          "output_type": "stream",
          "name": "stdout",
          "text": [
            "12/12 [==============================] - 0s 3ms/step - loss: 0.1002 - accuracy: 0.9750\n"
          ]
        }
      ]
    },
    {
      "cell_type": "markdown",
      "source": [
        "**ANN Model implementation using Numpy**"
      ],
      "metadata": {
        "id": "DM-zL9mRC5i2"
      }
    },
    {
      "cell_type": "code",
      "source": [
        "W1 = model.layers[0].get_weights()[0]               # Layer 0 Weights\n",
        "W2 = model.layers[1].get_weights()[0]               # Layer 1 Weights\n",
        "W3 = model.layers[2].get_weights()[0]               # Layer 2 Weights\n",
        "\n",
        "b1 = model.layers[0].get_weights()[1]               # Layer 0 Biases\n",
        "b2 = model.layers[1].get_weights()[1]               # Layer 1 Biases\n",
        "b3 = model.layers[2].get_weights()[1]               # Layer 2 Biases"
      ],
      "metadata": {
        "id": "CW-gj2eueUiy"
      },
      "execution_count": null,
      "outputs": []
    },
    {
      "cell_type": "markdown",
      "source": [
        "**Activation Function**"
      ],
      "metadata": {
        "id": "WKzm5dlh4qa3"
      }
    },
    {
      "cell_type": "code",
      "source": [
        "def relu(A):\n",
        "    return np.maximum(0,A)\n",
        "\n",
        "def softmax(A):\n",
        "  exp_A = np.exp(A)\n",
        "  return exp_A / exp_A.sum()"
      ],
      "metadata": {
        "id": "l299NXqRejTG"
      },
      "execution_count": null,
      "outputs": []
    },
    {
      "cell_type": "markdown",
      "source": [
        "**Forward Propagation**"
      ],
      "metadata": {
        "id": "AQJfEVOX4tvS"
      }
    },
    {
      "cell_type": "code",
      "source": [
        "def forward_propagation(X):\n",
        "  Z1 = np.dot(X , W1) + b1\n",
        "  A1 = relu(Z1)\n",
        "  Z2 = np.dot(A1 , W2) + b2\n",
        "  A2 = relu(Z2)\n",
        "  Z3 = np.dot(A2 , W3) + b3\n",
        "  A3 = softmax(Z3)\n",
        "  return A3"
      ],
      "metadata": {
        "id": "LKSsZuBfenRU"
      },
      "execution_count": null,
      "outputs": []
    },
    {
      "cell_type": "markdown",
      "source": [
        "**Calculating Accuracy of the model**"
      ],
      "metadata": {
        "id": "jvx5e5L14wyF"
      }
    },
    {
      "cell_type": "code",
      "source": [
        "def accuracy(predictions , labels):\n",
        "  return np.mean(predictions.argmax(axis=1) == labels)"
      ],
      "metadata": {
        "id": "tc855ruHezJO"
      },
      "execution_count": null,
      "outputs": []
    },
    {
      "cell_type": "markdown",
      "source": [
        "**Retrieving the Prediction**"
      ],
      "metadata": {
        "id": "TrvP_uuF41tZ"
      }
    },
    {
      "cell_type": "code",
      "source": [
        "predictions = forward_propagation(X_test)\n",
        "\n",
        "acc = accuracy(predictions, Y_test)\n",
        "print(\"Accuracy: \", acc)"
      ],
      "metadata": {
        "colab": {
          "base_uri": "https://localhost:8080/"
        },
        "id": "tm32KpM6e7-y",
        "outputId": "918abec5-df74-410a-9e27-eed05719180e"
      },
      "execution_count": null,
      "outputs": [
        {
          "output_type": "stream",
          "name": "stdout",
          "text": [
            "Accuracy:  0.975\n"
          ]
        }
      ]
    },
    {
      "cell_type": "markdown",
      "source": [
        "**Plotting the images and comparing the performance of Keras and Numpy model**"
      ],
      "metadata": {
        "id": "YiHWPaDq46Gh"
      }
    },
    {
      "cell_type": "code",
      "source": [
        "print(\"My ANN Model's Prediction\")\n",
        "\n",
        "fig, ax = plt.subplots(2, 5, figsize=(8, 4))\n",
        "\n",
        "for i, axi in enumerate(ax.flat):\n",
        "    imgg = X_test[i].reshape(8, 8)\n",
        "    axi.imshow(imgg, cmap='binary')\n",
        "    axi.set(xticks=[], yticks=[])\n",
        "    axi.set_xlabel(predictions[i].argmax(), color='green')\n",
        "\n",
        "plt.show()\n",
        "\n",
        "y_pred = model.predict(X_test)\n",
        "\n",
        "\n",
        "print(\"Keras implemented ANN Model's Prediction\")\n",
        "# Keras model plot\n",
        "fig, axs = plt.subplots(2, 5 ,figsize=(8, 4))\n",
        "axs = axs.flatten()\n",
        "\n",
        "for i in range(10):\n",
        "    img = X_test[i].reshape(8, 8)\n",
        "    axs[i].imshow(img, cmap='binary')\n",
        "    axs[i].set_title(np.argmax(y_pred[i]),  color='blue')\n",
        "    axs[i].axis('off')\n",
        "\n",
        "plt.show()"
      ],
      "metadata": {
        "colab": {
          "base_uri": "https://localhost:8080/",
          "height": 521
        },
        "id": "8Yby-fZIiyEv",
        "outputId": "8304a555-d244-4aa9-d0d7-d0d668a8124c"
      },
      "execution_count": null,
      "outputs": [
        {
          "output_type": "stream",
          "name": "stdout",
          "text": [
            "My ANN Model's Prediction\n"
          ]
        },
        {
          "output_type": "display_data",
          "data": {
            "text/plain": [
              "<Figure size 576x288 with 10 Axes>"
            ],
            "image/png": "[encoded data removed]"
          },
          "metadata": {}
        },
        {
          "output_type": "stream",
          "name": "stdout",
          "text": [
            "12/12 [==============================] - 0s 2ms/step\n",
            "Keras implemented ANN Model's Prediction\n"
          ]
        },
        {
          "output_type": "display_data",
          "data": {
            "text/plain": [
              "<Figure size 576x288 with 10 Axes>"
            ],
            "image/png": "[encoded data removed]"
          },
          "metadata": {
            "needs_background": "light"
          }
        }
      ]
    }
  ]
}